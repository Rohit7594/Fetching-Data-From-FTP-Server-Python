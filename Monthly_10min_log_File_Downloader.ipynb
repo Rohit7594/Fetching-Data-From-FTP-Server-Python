{
 "cells": [
  {
   "cell_type": "code",
   "execution_count": 1,
   "id": "090e64ec",
   "metadata": {},
   "outputs": [],
   "source": [
    "from ftplib import FTP\n",
    "import os\n",
    "from datetime import date, timedelta\n",
    "\n",
    "# Line to find the total days or last day of the previous month.\n",
    "last_day_of_prev_month = date.today().replace(day=1) - timedelta(days=1)\n",
    "\n",
    "\n",
    "lastday=int(last_day_of_prev_month.strftime('%d'))\n",
    "month=last_day_of_prev_month.strftime('%m')\n",
    "year=int(last_day_of_prev_month.strftime('%Y'))"
   ]
  },
  {
   "cell_type": "code",
   "execution_count": 2,
   "id": "5d335df1",
   "metadata": {},
   "outputs": [],
   "source": [
    "# Host details stored in dictionary to access it easliy with the help of key/host name(In my case its wind turbine names).\n",
    "turbine_ips={\"WHR\":\"host ip address\",\"Haspielaw\":\"host ip address\",\"Blaencilgoed\":\"host ip address\",\n",
    "             \"Redlands\":\"host ip address\",\"JJ\":\"host ip address\",\"Heathlands\":\"host ip address\"}\n",
    "\n",
    "turbine_usrnm={\"WHR\":\"username\",\"Haspielaw\":\"username\",\"Blaencilgoed\":\"username\",\n",
    "               \"Redlands\":\"username\",\"JJ\":\"username\",\"Heathlands\":\"username\"}\n",
    "\n",
    "turbine_pw={\"WHR\":\"password\",\"Haspielaw\":\"password\",\"Blaencilgoed\":\"password\",\n",
    "            \"Redlands\":\"password\",\"JJ\":\"password\",\"Heathlands\":\"password\"}"
   ]
  },
  {
   "cell_type": "code",
   "execution_count": 3,
   "id": "03666a83",
   "metadata": {},
   "outputs": [],
   "source": [
    "# Defining Fuction to download single file for previous month from particular folder.\n",
    "# In my case file name is day_log_04_2022.csv from daylog folder.\n",
    "def daylogs(turbine_nm):\n",
    "    \n",
    "    # Changing directory to the target folder PW_data to download file.\n",
    "    # You can write your target folder path, where you want to download the file.\n",
    "    os.chdir(\"C:/Users/r.saroj/Desktop/PD/Data Science/Rough/PW_data/{}\".format(turbine_nm))\n",
    "    \n",
    "    # You can write your target folder path.\n",
    "    daylog_dir_name='/cfc0/PW_Data/DAY_LOGS'\n",
    "    # Changing directory on FTP to select the file from DAY_LOGS folder.\n",
    "    ftp.cwd(daylog_dir_name)\n",
    "\n",
    "    # file name ex: day_log_04_2022.csv\n",
    "    daylog_startnm=' day_log_'\n",
    "    \n",
    "    # Since my target file name keeps changing each month because it includes month and year in it.\n",
    "    daylog_file_name=daylog_startnm + str(month)+'_'+str(year)+'.csv'\n",
    "    \n",
    "    # It will download your file as per you specified name.(Note change directory before this step as I have done above)\n",
    "    file=open(daylog_file_name, \"wb\")\n",
    "    ftp.retrbinary(\"RETR\"+ daylog_file_name, file.write)"
   ]
  },
  {
   "cell_type": "code",
   "execution_count": 4,
   "id": "1f0d58c8",
   "metadata": {},
   "outputs": [],
   "source": [
    "# Defining Fuction to download multiple file for previous month from particular folder.\n",
    "# In my case file name for previou month is varying from 10min_log_1_04.csv to 10min_log_30_04.csv.\n",
    "def _10minlogs(turbine_nm):\n",
    "    \n",
    "    # Changing directory to the target folder PW_data to download file.\n",
    "    # You can write your target folder path, where you want to download the file.\n",
    "    os.chdir('C:/Users/r.saroj/Desktop/PD/Data Science/Rough/PW_data/{}/10min'.format(turbine_nm))\n",
    "    _10min_dir_name='/cfc0/PW_Data/10min_logs'\n",
    "    ftp.cwd(_10min_dir_name)\n",
    "\n",
    "    # file name ex: 10min_log_1_04.csv\n",
    "    _10min_startnm=' 10min_log_'\n",
    "    for day in range(1,lastday+1):\n",
    "        _10min_file_name=_10min_startnm + str(day) + '_' + str(month) + '.csv'\n",
    "        file=open(_10min_file_name, \"wb\")\n",
    "        ftp.retrbinary(\"RETR\"+ _10min_file_name, file.write)\n",
    "    # Closing the connection.   \n",
    "    ftp.close() "
   ]
  },
  {
   "cell_type": "code",
   "execution_count": null,
   "id": "4d4162c6",
   "metadata": {},
   "outputs": [],
   "source": [
    "# Executing it by taking turbing name as an input. \n",
    "turbine=input(\"\"\"Type turbine name form the list(\"WHR\",\"Haspielaw\",\"Blaencilgoed\",\"Redlands\",\"JJ\",\"Heathlands\"): \"\"\").split(\",\")\n",
    "\n",
    "# Using for loop to loop around multiple turbine in my case as per input given. \n",
    "for name in turbine:\n",
    "    # fetching data from turbine_ips dictionary for particular turbine \n",
    "    ip_=turbine_ips[name]\n",
    "    # fetching data from turbine_usrnm dictionary for particular turbine \n",
    "    usrnm_=turbine_usrnm[name]\n",
    "    # fetching data from turbine_pw dictionary for particular turbine \n",
    "    pw_=turbine_pw[name]\n",
    "    \n",
    "    # feeding ip/host address to the FTP funtion\n",
    "    ftp=FTP(ip_)\n",
    "    # Setting Transfer mode to Active, By default it is set to Passive.(In my case it wasn't working with Passive setting)\n",
    "    ftp.set_pasv(False)\n",
    "    # logging into the host\n",
    "    ftp.login(usrnm_,pw_)\n",
    "    \n",
    "    # Calling function\n",
    "    daylogs(name)\n",
    "    _10minlogs(name)"
   ]
  }
 ],
 "metadata": {
  "kernelspec": {
   "display_name": "Python 3 (ipykernel)",
   "language": "python",
   "name": "python3"
  },
  "language_info": {
   "codemirror_mode": {
    "name": "ipython",
    "version": 3
   },
   "file_extension": ".py",
   "mimetype": "text/x-python",
   "name": "python",
   "nbconvert_exporter": "python",
   "pygments_lexer": "ipython3",
   "version": "3.9.12"
  }
 },
 "nbformat": 4,
 "nbformat_minor": 5
}
